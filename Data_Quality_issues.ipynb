{
  "nbformat": 4,
  "nbformat_minor": 0,
  "metadata": {
    "colab": {
      "name": "Data Quality issues.ipynb",
      "provenance": []
    },
    "kernelspec": {
      "name": "python3",
      "display_name": "Python 3"
    },
    "language_info": {
      "name": "python"
    }
  },
  "cells": [
    {
      "cell_type": "code",
      "metadata": {
        "id": "iSX_uYgI-QLz"
      },
      "source": [
        "import json\n",
        "import pandas as pd"
      ],
      "execution_count": null,
      "outputs": []
    },
    {
      "cell_type": "markdown",
      "metadata": {
        "id": "n05wJgipKMG8"
      },
      "source": [
        "# Analyzing data quality issues"
      ]
    },
    {
      "cell_type": "markdown",
      "metadata": {
        "id": "t2gaEXyT5D28"
      },
      "source": [
        "## 1. Checking top 5 rows for a brief picture of how data looks like in each of the tables (Checks: Datatypes of each variables, Data quantity)"
      ]
    },
    {
      "cell_type": "code",
      "metadata": {
        "colab": {
          "base_uri": "https://localhost:8080/",
          "height": 391
        },
        "id": "7Deds0_v-0t7",
        "outputId": "52c972e2-21e4-4804-8bdb-2392f3cbb2d7"
      },
      "source": [
        "brands_df = pd.read_json('brands.json', lines=True)\n",
        "brands_df.head()"
      ],
      "execution_count": null,
      "outputs": [
        {
          "output_type": "execute_result",
          "data": {
            "text/html": [
              "<div>\n",
              "<style scoped>\n",
              "    .dataframe tbody tr th:only-of-type {\n",
              "        vertical-align: middle;\n",
              "    }\n",
              "\n",
              "    .dataframe tbody tr th {\n",
              "        vertical-align: top;\n",
              "    }\n",
              "\n",
              "    .dataframe thead th {\n",
              "        text-align: right;\n",
              "    }\n",
              "</style>\n",
              "<table border=\"1\" class=\"dataframe\">\n",
              "  <thead>\n",
              "    <tr style=\"text-align: right;\">\n",
              "      <th></th>\n",
              "      <th>_id</th>\n",
              "      <th>barcode</th>\n",
              "      <th>category</th>\n",
              "      <th>categoryCode</th>\n",
              "      <th>cpg</th>\n",
              "      <th>name</th>\n",
              "      <th>topBrand</th>\n",
              "      <th>brandCode</th>\n",
              "    </tr>\n",
              "  </thead>\n",
              "  <tbody>\n",
              "    <tr>\n",
              "      <th>0</th>\n",
              "      <td>{'$oid': '601ac115be37ce2ead437551'}</td>\n",
              "      <td>511111019862</td>\n",
              "      <td>Baking</td>\n",
              "      <td>BAKING</td>\n",
              "      <td>{'$id': {'$oid': '601ac114be37ce2ead437550'}, ...</td>\n",
              "      <td>test brand @1612366101024</td>\n",
              "      <td>0.0</td>\n",
              "      <td>NaN</td>\n",
              "    </tr>\n",
              "    <tr>\n",
              "      <th>1</th>\n",
              "      <td>{'$oid': '601c5460be37ce2ead43755f'}</td>\n",
              "      <td>511111519928</td>\n",
              "      <td>Beverages</td>\n",
              "      <td>BEVERAGES</td>\n",
              "      <td>{'$id': {'$oid': '5332f5fbe4b03c9a25efd0ba'}, ...</td>\n",
              "      <td>Starbucks</td>\n",
              "      <td>0.0</td>\n",
              "      <td>STARBUCKS</td>\n",
              "    </tr>\n",
              "    <tr>\n",
              "      <th>2</th>\n",
              "      <td>{'$oid': '601ac142be37ce2ead43755d'}</td>\n",
              "      <td>511111819905</td>\n",
              "      <td>Baking</td>\n",
              "      <td>BAKING</td>\n",
              "      <td>{'$id': {'$oid': '601ac142be37ce2ead437559'}, ...</td>\n",
              "      <td>test brand @1612366146176</td>\n",
              "      <td>0.0</td>\n",
              "      <td>TEST BRANDCODE @1612366146176</td>\n",
              "    </tr>\n",
              "    <tr>\n",
              "      <th>3</th>\n",
              "      <td>{'$oid': '601ac142be37ce2ead43755a'}</td>\n",
              "      <td>511111519874</td>\n",
              "      <td>Baking</td>\n",
              "      <td>BAKING</td>\n",
              "      <td>{'$id': {'$oid': '601ac142be37ce2ead437559'}, ...</td>\n",
              "      <td>test brand @1612366146051</td>\n",
              "      <td>0.0</td>\n",
              "      <td>TEST BRANDCODE @1612366146051</td>\n",
              "    </tr>\n",
              "    <tr>\n",
              "      <th>4</th>\n",
              "      <td>{'$oid': '601ac142be37ce2ead43755e'}</td>\n",
              "      <td>511111319917</td>\n",
              "      <td>Candy &amp; Sweets</td>\n",
              "      <td>CANDY_AND_SWEETS</td>\n",
              "      <td>{'$id': {'$oid': '5332fa12e4b03c9a25efd1e7'}, ...</td>\n",
              "      <td>test brand @1612366146827</td>\n",
              "      <td>0.0</td>\n",
              "      <td>TEST BRANDCODE @1612366146827</td>\n",
              "    </tr>\n",
              "  </tbody>\n",
              "</table>\n",
              "</div>"
            ],
            "text/plain": [
              "                                    _id  ...                      brandCode\n",
              "0  {'$oid': '601ac115be37ce2ead437551'}  ...                            NaN\n",
              "1  {'$oid': '601c5460be37ce2ead43755f'}  ...                      STARBUCKS\n",
              "2  {'$oid': '601ac142be37ce2ead43755d'}  ...  TEST BRANDCODE @1612366146176\n",
              "3  {'$oid': '601ac142be37ce2ead43755a'}  ...  TEST BRANDCODE @1612366146051\n",
              "4  {'$oid': '601ac142be37ce2ead43755e'}  ...  TEST BRANDCODE @1612366146827\n",
              "\n",
              "[5 rows x 8 columns]"
            ]
          },
          "metadata": {},
          "execution_count": 2
        }
      ]
    },
    {
      "cell_type": "code",
      "metadata": {
        "colab": {
          "base_uri": "https://localhost:8080/"
        },
        "id": "-qFosggTIpFM",
        "outputId": "38bbfbb8-366c-4140-b89e-364a11ddf3bb"
      },
      "source": [
        "brands_df.shape"
      ],
      "execution_count": null,
      "outputs": [
        {
          "output_type": "execute_result",
          "data": {
            "text/plain": [
              "(1167, 8)"
            ]
          },
          "metadata": {},
          "execution_count": 3
        }
      ]
    },
    {
      "cell_type": "code",
      "metadata": {
        "id": "CSSZZA46-9EN",
        "colab": {
          "base_uri": "https://localhost:8080/",
          "height": 341
        },
        "outputId": "295eba59-0359-4716-b5af-69cf81e24185"
      },
      "source": [
        "receipts_df = pd.read_json('receipts.json', lines=True)\n",
        "receipts_df.head()"
      ],
      "execution_count": null,
      "outputs": [
        {
          "output_type": "execute_result",
          "data": {
            "text/html": [
              "<div>\n",
              "<style scoped>\n",
              "    .dataframe tbody tr th:only-of-type {\n",
              "        vertical-align: middle;\n",
              "    }\n",
              "\n",
              "    .dataframe tbody tr th {\n",
              "        vertical-align: top;\n",
              "    }\n",
              "\n",
              "    .dataframe thead th {\n",
              "        text-align: right;\n",
              "    }\n",
              "</style>\n",
              "<table border=\"1\" class=\"dataframe\">\n",
              "  <thead>\n",
              "    <tr style=\"text-align: right;\">\n",
              "      <th></th>\n",
              "      <th>_id</th>\n",
              "      <th>bonusPointsEarned</th>\n",
              "      <th>bonusPointsEarnedReason</th>\n",
              "      <th>createDate</th>\n",
              "      <th>dateScanned</th>\n",
              "      <th>finishedDate</th>\n",
              "      <th>modifyDate</th>\n",
              "      <th>pointsAwardedDate</th>\n",
              "      <th>pointsEarned</th>\n",
              "      <th>purchaseDate</th>\n",
              "      <th>purchasedItemCount</th>\n",
              "      <th>rewardsReceiptItemList</th>\n",
              "      <th>rewardsReceiptStatus</th>\n",
              "      <th>totalSpent</th>\n",
              "      <th>userId</th>\n",
              "    </tr>\n",
              "  </thead>\n",
              "  <tbody>\n",
              "    <tr>\n",
              "      <th>0</th>\n",
              "      <td>{'$oid': '5ff1e1eb0a720f0523000575'}</td>\n",
              "      <td>500.0</td>\n",
              "      <td>Receipt number 2 completed, bonus point schedu...</td>\n",
              "      <td>{'$date': 1609687531000}</td>\n",
              "      <td>{'$date': 1609687531000}</td>\n",
              "      <td>{'$date': 1609687531000}</td>\n",
              "      <td>{'$date': 1609687536000}</td>\n",
              "      <td>{'$date': 1609687531000}</td>\n",
              "      <td>500.0</td>\n",
              "      <td>{'$date': 1609632000000}</td>\n",
              "      <td>5.0</td>\n",
              "      <td>[{'barcode': '4011', 'description': 'ITEM NOT ...</td>\n",
              "      <td>FINISHED</td>\n",
              "      <td>26.0</td>\n",
              "      <td>5ff1e1eacfcf6c399c274ae6</td>\n",
              "    </tr>\n",
              "    <tr>\n",
              "      <th>1</th>\n",
              "      <td>{'$oid': '5ff1e1bb0a720f052300056b'}</td>\n",
              "      <td>150.0</td>\n",
              "      <td>Receipt number 5 completed, bonus point schedu...</td>\n",
              "      <td>{'$date': 1609687483000}</td>\n",
              "      <td>{'$date': 1609687483000}</td>\n",
              "      <td>{'$date': 1609687483000}</td>\n",
              "      <td>{'$date': 1609687488000}</td>\n",
              "      <td>{'$date': 1609687483000}</td>\n",
              "      <td>150.0</td>\n",
              "      <td>{'$date': 1609601083000}</td>\n",
              "      <td>2.0</td>\n",
              "      <td>[{'barcode': '4011', 'description': 'ITEM NOT ...</td>\n",
              "      <td>FINISHED</td>\n",
              "      <td>11.0</td>\n",
              "      <td>5ff1e194b6a9d73a3a9f1052</td>\n",
              "    </tr>\n",
              "    <tr>\n",
              "      <th>2</th>\n",
              "      <td>{'$oid': '5ff1e1f10a720f052300057a'}</td>\n",
              "      <td>5.0</td>\n",
              "      <td>All-receipts receipt bonus</td>\n",
              "      <td>{'$date': 1609687537000}</td>\n",
              "      <td>{'$date': 1609687537000}</td>\n",
              "      <td>NaN</td>\n",
              "      <td>{'$date': 1609687542000}</td>\n",
              "      <td>NaN</td>\n",
              "      <td>5.0</td>\n",
              "      <td>{'$date': 1609632000000}</td>\n",
              "      <td>1.0</td>\n",
              "      <td>[{'needsFetchReview': False, 'partnerItemId': ...</td>\n",
              "      <td>REJECTED</td>\n",
              "      <td>10.0</td>\n",
              "      <td>5ff1e1f1cfcf6c399c274b0b</td>\n",
              "    </tr>\n",
              "    <tr>\n",
              "      <th>3</th>\n",
              "      <td>{'$oid': '5ff1e1ee0a7214ada100056f'}</td>\n",
              "      <td>5.0</td>\n",
              "      <td>All-receipts receipt bonus</td>\n",
              "      <td>{'$date': 1609687534000}</td>\n",
              "      <td>{'$date': 1609687534000}</td>\n",
              "      <td>{'$date': 1609687534000}</td>\n",
              "      <td>{'$date': 1609687539000}</td>\n",
              "      <td>{'$date': 1609687534000}</td>\n",
              "      <td>5.0</td>\n",
              "      <td>{'$date': 1609632000000}</td>\n",
              "      <td>4.0</td>\n",
              "      <td>[{'barcode': '4011', 'description': 'ITEM NOT ...</td>\n",
              "      <td>FINISHED</td>\n",
              "      <td>28.0</td>\n",
              "      <td>5ff1e1eacfcf6c399c274ae6</td>\n",
              "    </tr>\n",
              "    <tr>\n",
              "      <th>4</th>\n",
              "      <td>{'$oid': '5ff1e1d20a7214ada1000561'}</td>\n",
              "      <td>5.0</td>\n",
              "      <td>All-receipts receipt bonus</td>\n",
              "      <td>{'$date': 1609687506000}</td>\n",
              "      <td>{'$date': 1609687506000}</td>\n",
              "      <td>{'$date': 1609687511000}</td>\n",
              "      <td>{'$date': 1609687511000}</td>\n",
              "      <td>{'$date': 1609687506000}</td>\n",
              "      <td>5.0</td>\n",
              "      <td>{'$date': 1609601106000}</td>\n",
              "      <td>2.0</td>\n",
              "      <td>[{'barcode': '4011', 'description': 'ITEM NOT ...</td>\n",
              "      <td>FINISHED</td>\n",
              "      <td>1.0</td>\n",
              "      <td>5ff1e194b6a9d73a3a9f1052</td>\n",
              "    </tr>\n",
              "  </tbody>\n",
              "</table>\n",
              "</div>"
            ],
            "text/plain": [
              "                                    _id  ...                    userId\n",
              "0  {'$oid': '5ff1e1eb0a720f0523000575'}  ...  5ff1e1eacfcf6c399c274ae6\n",
              "1  {'$oid': '5ff1e1bb0a720f052300056b'}  ...  5ff1e194b6a9d73a3a9f1052\n",
              "2  {'$oid': '5ff1e1f10a720f052300057a'}  ...  5ff1e1f1cfcf6c399c274b0b\n",
              "3  {'$oid': '5ff1e1ee0a7214ada100056f'}  ...  5ff1e1eacfcf6c399c274ae6\n",
              "4  {'$oid': '5ff1e1d20a7214ada1000561'}  ...  5ff1e194b6a9d73a3a9f1052\n",
              "\n",
              "[5 rows x 15 columns]"
            ]
          },
          "metadata": {},
          "execution_count": 6
        }
      ]
    },
    {
      "cell_type": "code",
      "metadata": {
        "colab": {
          "base_uri": "https://localhost:8080/"
        },
        "id": "Lmv5eyNNIu8R",
        "outputId": "676758a7-e16b-42bf-8639-ddfecc7743ba"
      },
      "source": [
        "receipts_df.shape"
      ],
      "execution_count": null,
      "outputs": [
        {
          "output_type": "execute_result",
          "data": {
            "text/plain": [
              "(1119, 15)"
            ]
          },
          "metadata": {},
          "execution_count": 7
        }
      ]
    },
    {
      "cell_type": "code",
      "metadata": {
        "colab": {
          "base_uri": "https://localhost:8080/",
          "height": 203
        },
        "id": "PFCLqEgEGEH1",
        "outputId": "6cbdc12d-69bf-4ee2-9655-cbe94ff39d76"
      },
      "source": [
        "users_df = pd.read_json('users.json', lines=True)\n",
        "users_df.head()"
      ],
      "execution_count": null,
      "outputs": [
        {
          "output_type": "execute_result",
          "data": {
            "text/html": [
              "<div>\n",
              "<style scoped>\n",
              "    .dataframe tbody tr th:only-of-type {\n",
              "        vertical-align: middle;\n",
              "    }\n",
              "\n",
              "    .dataframe tbody tr th {\n",
              "        vertical-align: top;\n",
              "    }\n",
              "\n",
              "    .dataframe thead th {\n",
              "        text-align: right;\n",
              "    }\n",
              "</style>\n",
              "<table border=\"1\" class=\"dataframe\">\n",
              "  <thead>\n",
              "    <tr style=\"text-align: right;\">\n",
              "      <th></th>\n",
              "      <th>_id</th>\n",
              "      <th>active</th>\n",
              "      <th>createdDate</th>\n",
              "      <th>lastLogin</th>\n",
              "      <th>role</th>\n",
              "      <th>signUpSource</th>\n",
              "      <th>state</th>\n",
              "    </tr>\n",
              "  </thead>\n",
              "  <tbody>\n",
              "    <tr>\n",
              "      <th>0</th>\n",
              "      <td>{'$oid': '5ff1e194b6a9d73a3a9f1052'}</td>\n",
              "      <td>True</td>\n",
              "      <td>{'$date': 1609687444800}</td>\n",
              "      <td>{'$date': 1609687537858}</td>\n",
              "      <td>consumer</td>\n",
              "      <td>Email</td>\n",
              "      <td>WI</td>\n",
              "    </tr>\n",
              "    <tr>\n",
              "      <th>1</th>\n",
              "      <td>{'$oid': '5ff1e194b6a9d73a3a9f1052'}</td>\n",
              "      <td>True</td>\n",
              "      <td>{'$date': 1609687444800}</td>\n",
              "      <td>{'$date': 1609687537858}</td>\n",
              "      <td>consumer</td>\n",
              "      <td>Email</td>\n",
              "      <td>WI</td>\n",
              "    </tr>\n",
              "    <tr>\n",
              "      <th>2</th>\n",
              "      <td>{'$oid': '5ff1e194b6a9d73a3a9f1052'}</td>\n",
              "      <td>True</td>\n",
              "      <td>{'$date': 1609687444800}</td>\n",
              "      <td>{'$date': 1609687537858}</td>\n",
              "      <td>consumer</td>\n",
              "      <td>Email</td>\n",
              "      <td>WI</td>\n",
              "    </tr>\n",
              "    <tr>\n",
              "      <th>3</th>\n",
              "      <td>{'$oid': '5ff1e1eacfcf6c399c274ae6'}</td>\n",
              "      <td>True</td>\n",
              "      <td>{'$date': 1609687530554}</td>\n",
              "      <td>{'$date': 1609687530597}</td>\n",
              "      <td>consumer</td>\n",
              "      <td>Email</td>\n",
              "      <td>WI</td>\n",
              "    </tr>\n",
              "    <tr>\n",
              "      <th>4</th>\n",
              "      <td>{'$oid': '5ff1e194b6a9d73a3a9f1052'}</td>\n",
              "      <td>True</td>\n",
              "      <td>{'$date': 1609687444800}</td>\n",
              "      <td>{'$date': 1609687537858}</td>\n",
              "      <td>consumer</td>\n",
              "      <td>Email</td>\n",
              "      <td>WI</td>\n",
              "    </tr>\n",
              "  </tbody>\n",
              "</table>\n",
              "</div>"
            ],
            "text/plain": [
              "                                    _id  active  ... signUpSource state\n",
              "0  {'$oid': '5ff1e194b6a9d73a3a9f1052'}    True  ...        Email    WI\n",
              "1  {'$oid': '5ff1e194b6a9d73a3a9f1052'}    True  ...        Email    WI\n",
              "2  {'$oid': '5ff1e194b6a9d73a3a9f1052'}    True  ...        Email    WI\n",
              "3  {'$oid': '5ff1e1eacfcf6c399c274ae6'}    True  ...        Email    WI\n",
              "4  {'$oid': '5ff1e194b6a9d73a3a9f1052'}    True  ...        Email    WI\n",
              "\n",
              "[5 rows x 7 columns]"
            ]
          },
          "metadata": {},
          "execution_count": 8
        }
      ]
    },
    {
      "cell_type": "code",
      "metadata": {
        "colab": {
          "base_uri": "https://localhost:8080/"
        },
        "id": "H-339krlGKF0",
        "outputId": "33b27923-f6ec-4843-e488-83b1bc5eabee"
      },
      "source": [
        "users_df.shape"
      ],
      "execution_count": null,
      "outputs": [
        {
          "output_type": "execute_result",
          "data": {
            "text/plain": [
              "(495, 7)"
            ]
          },
          "metadata": {},
          "execution_count": 9
        }
      ]
    },
    {
      "cell_type": "markdown",
      "metadata": {
        "id": "EwK5GrDI5gd-"
      },
      "source": [
        "## 2. Checking for null entries in each of the tables"
      ]
    },
    {
      "cell_type": "code",
      "metadata": {
        "colab": {
          "base_uri": "https://localhost:8080/"
        },
        "id": "sJX5rZH9JwvG",
        "outputId": "4469e68b-ab6d-4e7b-c2a2-c4e40583190a"
      },
      "source": [
        "brands_df.info()"
      ],
      "execution_count": null,
      "outputs": [
        {
          "output_type": "stream",
          "name": "stdout",
          "text": [
            "<class 'pandas.core.frame.DataFrame'>\n",
            "RangeIndex: 1167 entries, 0 to 1166\n",
            "Data columns (total 8 columns):\n",
            " #   Column        Non-Null Count  Dtype  \n",
            "---  ------        --------------  -----  \n",
            " 0   _id           1167 non-null   object \n",
            " 1   barcode       1167 non-null   int64  \n",
            " 2   category      1012 non-null   object \n",
            " 3   categoryCode  517 non-null    object \n",
            " 4   cpg           1167 non-null   object \n",
            " 5   name          1167 non-null   object \n",
            " 6   topBrand      555 non-null    float64\n",
            " 7   brandCode     933 non-null    object \n",
            "dtypes: float64(1), int64(1), object(6)\n",
            "memory usage: 73.1+ KB\n"
          ]
        }
      ]
    },
    {
      "cell_type": "code",
      "metadata": {
        "colab": {
          "base_uri": "https://localhost:8080/"
        },
        "id": "2Lr8TRNvKaTa",
        "outputId": "513d6069-ddd9-4aba-d8a9-3432bc652828"
      },
      "source": [
        "brands_df.isnull().any()"
      ],
      "execution_count": null,
      "outputs": [
        {
          "output_type": "execute_result",
          "data": {
            "text/plain": [
              "_id             False\n",
              "barcode         False\n",
              "category         True\n",
              "categoryCode     True\n",
              "cpg             False\n",
              "name            False\n",
              "topBrand         True\n",
              "brandCode        True\n",
              "dtype: bool"
            ]
          },
          "metadata": {},
          "execution_count": 5
        }
      ]
    },
    {
      "cell_type": "code",
      "metadata": {
        "id": "dWq5lyf8I3N5",
        "colab": {
          "base_uri": "https://localhost:8080/"
        },
        "outputId": "2fa83dd7-0f38-4281-e005-96f207f56bed"
      },
      "source": [
        "users_df.isnull().any()"
      ],
      "execution_count": 36,
      "outputs": [
        {
          "output_type": "execute_result",
          "data": {
            "text/plain": [
              "_id             False\n",
              "active          False\n",
              "createdDate     False\n",
              "lastLogin        True\n",
              "role            False\n",
              "signUpSource     True\n",
              "state            True\n",
              "dtype: bool"
            ]
          },
          "metadata": {},
          "execution_count": 36
        }
      ]
    },
    {
      "cell_type": "code",
      "metadata": {
        "colab": {
          "base_uri": "https://localhost:8080/"
        },
        "id": "CDcjAfQw1IyS",
        "outputId": "7c716925-8dc3-4784-9431-6dad6a21c50e"
      },
      "source": [
        "receipts_df.isnull().any()"
      ],
      "execution_count": 37,
      "outputs": [
        {
          "output_type": "execute_result",
          "data": {
            "text/plain": [
              "_id                        False\n",
              "bonusPointsEarned           True\n",
              "bonusPointsEarnedReason     True\n",
              "createDate                 False\n",
              "dateScanned                False\n",
              "finishedDate                True\n",
              "modifyDate                 False\n",
              "pointsAwardedDate           True\n",
              "pointsEarned                True\n",
              "purchaseDate                True\n",
              "purchasedItemCount          True\n",
              "rewardsReceiptItemList      True\n",
              "rewardsReceiptStatus       False\n",
              "totalSpent                  True\n",
              "userId                     False\n",
              "dtype: bool"
            ]
          },
          "metadata": {},
          "execution_count": 37
        }
      ]
    },
    {
      "cell_type": "markdown",
      "metadata": {
        "id": "QBcFp8nG797a"
      },
      "source": [
        "# Data Quality issues:\n",
        "1. Each of the tables has null values in few variables, needs to be imputed or dropped\n",
        "2. Some columns have semi structured entries (.json values) which can be granulated to specific columsn in turn helps in ease of analyzing the data.\n",
        "3. Variable datatypes needs to be corrected."
      ]
    }
  ]
}